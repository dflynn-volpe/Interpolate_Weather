{
 "cells": [
  {
   "cell_type": "markdown",
   "metadata": {},
   "source": [
    "Python version of https://github.com/dflynn-volpe/Interpolate_Weather/\n",
    "\n",
    "Steps:\n",
    "\n",
    "- Import necessary libraries and set up temporary directory to hold outputs\n",
    "- Read in data from repository\n",
    "- Project weather station data and grid shapefile and plot \n",
    "- Make raster layer, loop over weather data by day to create interpolated weather layers\n",
    "- Extract values to grid cells and output data frame of gridded, daily weather values\n",
    "- Plot raster layer and plot output gridded layers\n"
   ]
  },
  {
   "cell_type": "code",
   "execution_count": 12,
   "metadata": {},
   "outputs": [],
   "source": [
    "import geopandas as gpd\n",
    "import pandas as pd\n",
    "import os\n",
    "import requests, zipfile, io\n",
    "\n",
    "# Set up temporary directory to hold outputs\n",
    "home = os.path.expanduser(\"~\")\n",
    "temppath = os.path.join(home, \"Interpolate_Weather_Temp_py\")\n",
    "\n",
    "#path = os.getcwd()  \n",
    "#print (\"The current working directory is %s\" % path) \n",
    "\n",
    "if not os.path.exists(temppath):\n",
    "    print (\"Creating %s\" % temppath) \n",
    "    os.makedirs(temppath)"
   ]
  },
  {
   "cell_type": "code",
   "execution_count": 13,
   "metadata": {},
   "outputs": [],
   "source": [
    "wx = pd.read_csv('https://github.com/dflynn-volpe/Interpolate_Weather_Volpe/blob/master/TN_Station_Data_2017-04-01_to_2018-03-31.csv?raw=true')\n",
    "\n",
    "wx.head()\n",
    "\n",
    "r = requests.get('https://github.com/dflynn-volpe/Interpolate_Weather_Volpe/blob/master/TN_01dd_fishnet.zip?raw=true')\n",
    "z = zipfile.ZipFile(io.BytesIO(r.content))\n",
    "z.extractall()\n",
    "\n",
    "#zipget = httr::GET()\n",
    "#writeBin(httr::content(zipget, \"raw\"), 'TN_01dd_fishnet.zip')\n"
   ]
  },
  {
   "cell_type": "code",
   "execution_count": null,
   "metadata": {},
   "outputs": [],
   "source": []
  }
 ],
 "metadata": {
  "kernelspec": {
   "display_name": "Python 3",
   "language": "python",
   "name": "python3"
  },
  "language_info": {
   "codemirror_mode": {
    "name": "ipython",
    "version": 3
   },
   "file_extension": ".py",
   "mimetype": "text/x-python",
   "name": "python",
   "nbconvert_exporter": "python",
   "pygments_lexer": "ipython3",
   "version": "3.7.1"
  }
 },
 "nbformat": 4,
 "nbformat_minor": 2
}
